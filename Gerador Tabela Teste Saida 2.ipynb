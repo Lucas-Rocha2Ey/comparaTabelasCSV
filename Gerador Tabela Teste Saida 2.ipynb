{
 "cells": [
  {
   "cell_type": "code",
   "execution_count": 2,
   "id": "12bd39d4-b45c-4523-8541-bd0780d83ab5",
   "metadata": {},
   "outputs": [],
   "source": [
    "import pandas as pd\n",
    "import numpy as np"
   ]
  },
  {
   "cell_type": "code",
   "execution_count": 21,
   "id": "8190e5d0-6c6c-4326-9ebe-b62721037562",
   "metadata": {},
   "outputs": [],
   "source": [
    "def dataframe_types(dataframe, file_name):\n",
    "    res = dataframe.dtypes.to_frame('dtypes').reset_index()\n",
    "    res.to_csv(f\"{file_name}_dtypes_info.csv\")"
   ]
  },
  {
   "cell_type": "code",
   "execution_count": 3,
   "id": "36d4e8e8-4b88-4c71-a6b0-209131462957",
   "metadata": {},
   "outputs": [],
   "source": [
    "codcidade = np.arange(1, 13)\n",
    "codcidade = np.append(codcidade, [29])"
   ]
  },
  {
   "cell_type": "code",
   "execution_count": 4,
   "id": "3f31ca05-746c-44c4-9dda-d002247cfa0f",
   "metadata": {},
   "outputs": [],
   "source": [
    "cidade = ['Rio de Janeiro', 'São Paulo', 'Rio Grande do Sul', 'Espirito Santo', 'Goiás',\n",
    "          'Distrito Federal', 'Bahia', 'Rio Grande do Norte', 'Sergipe', 'Minas Gerais',\n",
    "          'Paraná', 'Santa Catarina', 'Pará']\n",
    "uf = ['RJ', 'SP', 'RS', 'ES', 'GO', 'DF', 'BH', 'RN', 'SE', 'MG', 'PR', 'SC', 'PA'] "
   ]
  },
  {
   "cell_type": "code",
   "execution_count": 5,
   "id": "4a92b496-e5e6-4c56-a065-b74c6c2f9cee",
   "metadata": {},
   "outputs": [
    {
     "data": {
      "text/plain": [
       "array([ 1,  2,  3,  4,  5,  6,  7,  8,  9, 10, 11, 12, 29])"
      ]
     },
     "execution_count": 5,
     "metadata": {},
     "output_type": "execute_result"
    }
   ],
   "source": [
    "codcidade"
   ]
  },
  {
   "cell_type": "code",
   "execution_count": 6,
   "id": "8b2c7903-0ff2-45f3-ab1b-984c20033df2",
   "metadata": {},
   "outputs": [
    {
     "data": {
      "text/html": [
       "<div>\n",
       "<style scoped>\n",
       "    .dataframe tbody tr th:only-of-type {\n",
       "        vertical-align: middle;\n",
       "    }\n",
       "\n",
       "    .dataframe tbody tr th {\n",
       "        vertical-align: top;\n",
       "    }\n",
       "\n",
       "    .dataframe thead th {\n",
       "        text-align: right;\n",
       "    }\n",
       "</style>\n",
       "<table border=\"1\" class=\"dataframe\">\n",
       "  <thead>\n",
       "    <tr style=\"text-align: right;\">\n",
       "      <th></th>\n",
       "      <th>codcidade</th>\n",
       "      <th>cidade</th>\n",
       "      <th>uf</th>\n",
       "    </tr>\n",
       "  </thead>\n",
       "  <tbody>\n",
       "    <tr>\n",
       "      <th>0</th>\n",
       "      <td>1</td>\n",
       "      <td>Rio de Janeiro</td>\n",
       "      <td>RJ</td>\n",
       "    </tr>\n",
       "    <tr>\n",
       "      <th>1</th>\n",
       "      <td>2</td>\n",
       "      <td>São Paulo</td>\n",
       "      <td>SP</td>\n",
       "    </tr>\n",
       "    <tr>\n",
       "      <th>2</th>\n",
       "      <td>3</td>\n",
       "      <td>Rio Grande do Sul</td>\n",
       "      <td>RS</td>\n",
       "    </tr>\n",
       "    <tr>\n",
       "      <th>3</th>\n",
       "      <td>4</td>\n",
       "      <td>Espirito Santo</td>\n",
       "      <td>ES</td>\n",
       "    </tr>\n",
       "    <tr>\n",
       "      <th>4</th>\n",
       "      <td>5</td>\n",
       "      <td>Goiás</td>\n",
       "      <td>GO</td>\n",
       "    </tr>\n",
       "    <tr>\n",
       "      <th>5</th>\n",
       "      <td>6</td>\n",
       "      <td>Distrito Federal</td>\n",
       "      <td>DF</td>\n",
       "    </tr>\n",
       "    <tr>\n",
       "      <th>6</th>\n",
       "      <td>7</td>\n",
       "      <td>Bahia</td>\n",
       "      <td>BH</td>\n",
       "    </tr>\n",
       "    <tr>\n",
       "      <th>7</th>\n",
       "      <td>8</td>\n",
       "      <td>Rio Grande do Norte</td>\n",
       "      <td>RN</td>\n",
       "    </tr>\n",
       "    <tr>\n",
       "      <th>8</th>\n",
       "      <td>9</td>\n",
       "      <td>Sergipe</td>\n",
       "      <td>SE</td>\n",
       "    </tr>\n",
       "    <tr>\n",
       "      <th>9</th>\n",
       "      <td>10</td>\n",
       "      <td>Minas Gerais</td>\n",
       "      <td>MG</td>\n",
       "    </tr>\n",
       "    <tr>\n",
       "      <th>10</th>\n",
       "      <td>11</td>\n",
       "      <td>Paraná</td>\n",
       "      <td>PR</td>\n",
       "    </tr>\n",
       "    <tr>\n",
       "      <th>11</th>\n",
       "      <td>12</td>\n",
       "      <td>Santa Catarina</td>\n",
       "      <td>SC</td>\n",
       "    </tr>\n",
       "    <tr>\n",
       "      <th>12</th>\n",
       "      <td>29</td>\n",
       "      <td>Pará</td>\n",
       "      <td>PA</td>\n",
       "    </tr>\n",
       "  </tbody>\n",
       "</table>\n",
       "</div>"
      ],
      "text/plain": [
       "    codcidade               cidade  uf\n",
       "0           1       Rio de Janeiro  RJ\n",
       "1           2            São Paulo  SP\n",
       "2           3    Rio Grande do Sul  RS\n",
       "3           4       Espirito Santo  ES\n",
       "4           5                Goiás  GO\n",
       "5           6     Distrito Federal  DF\n",
       "6           7                Bahia  BH\n",
       "7           8  Rio Grande do Norte  RN\n",
       "8           9              Sergipe  SE\n",
       "9          10         Minas Gerais  MG\n",
       "10         11               Paraná  PR\n",
       "11         12       Santa Catarina  SC\n",
       "12         29                 Pará  PA"
      ]
     },
     "execution_count": 6,
     "metadata": {},
     "output_type": "execute_result"
    }
   ],
   "source": [
    "df_cidade = pd.DataFrame({'codcidade': codcidade,\n",
    "                          'cidade': cidade,\n",
    "                          'uf': uf})\n",
    "df_cidade"
   ]
  },
  {
   "cell_type": "code",
   "execution_count": 7,
   "id": "1dc837da-b04a-44b6-9606-326d66ca9332",
   "metadata": {
    "tags": []
   },
   "outputs": [
    {
     "data": {
      "text/plain": [
       "codcidade     int32\n",
       "cidade       object\n",
       "uf           object\n",
       "dtype: object"
      ]
     },
     "execution_count": 7,
     "metadata": {},
     "output_type": "execute_result"
    }
   ],
   "source": [
    "df_cidade.dtypes"
   ]
  },
  {
   "cell_type": "code",
   "execution_count": 28,
   "id": "a73d1c3d-742b-402d-a9c7-36d9cf9510b6",
   "metadata": {},
   "outputs": [],
   "source": [
    "df_cidade.to_csv('saida_tabela_2_csv.csv')"
   ]
  },
  {
   "cell_type": "code",
   "execution_count": 22,
   "id": "c4975088-a558-4f8e-af2c-28b2435653ed",
   "metadata": {},
   "outputs": [],
   "source": [
    "dataframe_types(df_cidade, \"saida_tabela_2_csv\")"
   ]
  },
  {
   "cell_type": "markdown",
   "id": "22acc56d-eb0f-49ba-a290-7ff8692e29f2",
   "metadata": {},
   "source": [
    "##### Gerando uma tabela ligeiramente diferente"
   ]
  },
  {
   "cell_type": "code",
   "execution_count": 15,
   "id": "57ae8a1e-fcc1-4312-bf4a-adf0baceda45",
   "metadata": {},
   "outputs": [
    {
     "data": {
      "text/html": [
       "<div>\n",
       "<style scoped>\n",
       "    .dataframe tbody tr th:only-of-type {\n",
       "        vertical-align: middle;\n",
       "    }\n",
       "\n",
       "    .dataframe tbody tr th {\n",
       "        vertical-align: top;\n",
       "    }\n",
       "\n",
       "    .dataframe thead th {\n",
       "        text-align: right;\n",
       "    }\n",
       "</style>\n",
       "<table border=\"1\" class=\"dataframe\">\n",
       "  <thead>\n",
       "    <tr style=\"text-align: right;\">\n",
       "      <th></th>\n",
       "      <th>Cod Cidade</th>\n",
       "      <th>cidade</th>\n",
       "      <th>UF</th>\n",
       "    </tr>\n",
       "  </thead>\n",
       "  <tbody>\n",
       "    <tr>\n",
       "      <th>0</th>\n",
       "      <td>1</td>\n",
       "      <td>Rio de Janeiro</td>\n",
       "      <td>RJ</td>\n",
       "    </tr>\n",
       "    <tr>\n",
       "      <th>1</th>\n",
       "      <td>2</td>\n",
       "      <td>São Paulo</td>\n",
       "      <td>SP</td>\n",
       "    </tr>\n",
       "    <tr>\n",
       "      <th>2</th>\n",
       "      <td>3</td>\n",
       "      <td>Rio Grande do Sul</td>\n",
       "      <td>RS</td>\n",
       "    </tr>\n",
       "    <tr>\n",
       "      <th>3</th>\n",
       "      <td>4</td>\n",
       "      <td>Espirito Santo</td>\n",
       "      <td>ES</td>\n",
       "    </tr>\n",
       "    <tr>\n",
       "      <th>4</th>\n",
       "      <td>5</td>\n",
       "      <td>Goiás</td>\n",
       "      <td>GO</td>\n",
       "    </tr>\n",
       "    <tr>\n",
       "      <th>5</th>\n",
       "      <td>6</td>\n",
       "      <td>Distrito Federal</td>\n",
       "      <td>DF</td>\n",
       "    </tr>\n",
       "    <tr>\n",
       "      <th>6</th>\n",
       "      <td>7</td>\n",
       "      <td>Bahia</td>\n",
       "      <td>BH</td>\n",
       "    </tr>\n",
       "    <tr>\n",
       "      <th>7</th>\n",
       "      <td>8</td>\n",
       "      <td>Rio Grande do Norte</td>\n",
       "      <td>RN</td>\n",
       "    </tr>\n",
       "    <tr>\n",
       "      <th>8</th>\n",
       "      <td>9</td>\n",
       "      <td>Sergipe</td>\n",
       "      <td>SE</td>\n",
       "    </tr>\n",
       "    <tr>\n",
       "      <th>9</th>\n",
       "      <td>10</td>\n",
       "      <td>Minas Gerais</td>\n",
       "      <td>MG</td>\n",
       "    </tr>\n",
       "    <tr>\n",
       "      <th>10</th>\n",
       "      <td>11</td>\n",
       "      <td>Paraná</td>\n",
       "      <td>PR</td>\n",
       "    </tr>\n",
       "    <tr>\n",
       "      <th>11</th>\n",
       "      <td>12</td>\n",
       "      <td>Santa Catarina</td>\n",
       "      <td>SC</td>\n",
       "    </tr>\n",
       "    <tr>\n",
       "      <th>12</th>\n",
       "      <td>29</td>\n",
       "      <td>Pará</td>\n",
       "      <td>PA</td>\n",
       "    </tr>\n",
       "  </tbody>\n",
       "</table>\n",
       "</div>"
      ],
      "text/plain": [
       "    Cod Cidade               cidade  UF\n",
       "0            1       Rio de Janeiro  RJ\n",
       "1            2            São Paulo  SP\n",
       "2            3    Rio Grande do Sul  RS\n",
       "3            4       Espirito Santo  ES\n",
       "4            5                Goiás  GO\n",
       "5            6     Distrito Federal  DF\n",
       "6            7                Bahia  BH\n",
       "7            8  Rio Grande do Norte  RN\n",
       "8            9              Sergipe  SE\n",
       "9           10         Minas Gerais  MG\n",
       "10          11               Paraná  PR\n",
       "11          12       Santa Catarina  SC\n",
       "12          29                 Pará  PA"
      ]
     },
     "execution_count": 15,
     "metadata": {},
     "output_type": "execute_result"
    }
   ],
   "source": [
    "df_cidade_2 = pd.DataFrame({'Cod Cidade': codcidade,\n",
    "                          'cidade': cidade,\n",
    "                          'UF': uf})\n",
    "df_cidade_2"
   ]
  },
  {
   "cell_type": "code",
   "execution_count": 30,
   "id": "a87d204f-9729-4a08-8762-eb58b09f5320",
   "metadata": {},
   "outputs": [],
   "source": [
    "df_cidade_2.to_csv('saida_tabela_3_csv.csv')"
   ]
  },
  {
   "cell_type": "code",
   "execution_count": 23,
   "id": "ba6181b3-5e30-4776-abe9-b96a06fd1062",
   "metadata": {},
   "outputs": [],
   "source": [
    "dataframe_types(df_cidade_2, \"saida_tabela_3_csv\")"
   ]
  },
  {
   "cell_type": "code",
   "execution_count": 17,
   "id": "c6f722d1-4b8f-43ef-8d2d-5156d87650fd",
   "metadata": {},
   "outputs": [],
   "source": [
    "cidade.sort()"
   ]
  },
  {
   "cell_type": "markdown",
   "id": "ba7e4904-6a8d-462d-ace0-461ccc353c0f",
   "metadata": {},
   "source": [
    "##### Esta outra tabela terá os mesmos dados em ordem diferente e alguns dados inseridos de forma incorreta"
   ]
  },
  {
   "cell_type": "code",
   "execution_count": 18,
   "id": "272b31b8-16e0-42fe-b5dd-bad990b97cac",
   "metadata": {},
   "outputs": [],
   "source": [
    "uf_2 = ['BH', 'DF', 'ES', 'GO', 'MG', 'PA', 'PR', 'RJ', 'RN', 'RS', 'SC', 'SE', 'SP']"
   ]
  },
  {
   "cell_type": "code",
   "execution_count": 19,
   "id": "9c688b15-ce50-4e82-86da-b9eee82f2b19",
   "metadata": {},
   "outputs": [
    {
     "data": {
      "text/html": [
       "<div>\n",
       "<style scoped>\n",
       "    .dataframe tbody tr th:only-of-type {\n",
       "        vertical-align: middle;\n",
       "    }\n",
       "\n",
       "    .dataframe tbody tr th {\n",
       "        vertical-align: top;\n",
       "    }\n",
       "\n",
       "    .dataframe thead th {\n",
       "        text-align: right;\n",
       "    }\n",
       "</style>\n",
       "<table border=\"1\" class=\"dataframe\">\n",
       "  <thead>\n",
       "    <tr style=\"text-align: right;\">\n",
       "      <th></th>\n",
       "      <th>Cod Cidade</th>\n",
       "      <th>cidade</th>\n",
       "      <th>UF</th>\n",
       "    </tr>\n",
       "  </thead>\n",
       "  <tbody>\n",
       "    <tr>\n",
       "      <th>0</th>\n",
       "      <td>1</td>\n",
       "      <td>Bahia</td>\n",
       "      <td>BH</td>\n",
       "    </tr>\n",
       "    <tr>\n",
       "      <th>1</th>\n",
       "      <td>2</td>\n",
       "      <td>Distrito Federal</td>\n",
       "      <td>DF</td>\n",
       "    </tr>\n",
       "    <tr>\n",
       "      <th>2</th>\n",
       "      <td>3</td>\n",
       "      <td>Espirito Santo</td>\n",
       "      <td>ES</td>\n",
       "    </tr>\n",
       "    <tr>\n",
       "      <th>3</th>\n",
       "      <td>4</td>\n",
       "      <td>Goiás</td>\n",
       "      <td>GO</td>\n",
       "    </tr>\n",
       "    <tr>\n",
       "      <th>4</th>\n",
       "      <td>5</td>\n",
       "      <td>Minas Gerais</td>\n",
       "      <td>MG</td>\n",
       "    </tr>\n",
       "    <tr>\n",
       "      <th>5</th>\n",
       "      <td>6</td>\n",
       "      <td>Paraná</td>\n",
       "      <td>PA</td>\n",
       "    </tr>\n",
       "    <tr>\n",
       "      <th>6</th>\n",
       "      <td>7</td>\n",
       "      <td>Pará</td>\n",
       "      <td>PR</td>\n",
       "    </tr>\n",
       "    <tr>\n",
       "      <th>7</th>\n",
       "      <td>8</td>\n",
       "      <td>Rio Grande do Norte</td>\n",
       "      <td>RJ</td>\n",
       "    </tr>\n",
       "    <tr>\n",
       "      <th>8</th>\n",
       "      <td>9</td>\n",
       "      <td>Rio Grande do Sul</td>\n",
       "      <td>RN</td>\n",
       "    </tr>\n",
       "    <tr>\n",
       "      <th>9</th>\n",
       "      <td>10</td>\n",
       "      <td>Rio de Janeiro</td>\n",
       "      <td>RS</td>\n",
       "    </tr>\n",
       "    <tr>\n",
       "      <th>10</th>\n",
       "      <td>11</td>\n",
       "      <td>Santa Catarina</td>\n",
       "      <td>SC</td>\n",
       "    </tr>\n",
       "    <tr>\n",
       "      <th>11</th>\n",
       "      <td>12</td>\n",
       "      <td>Sergipe</td>\n",
       "      <td>SE</td>\n",
       "    </tr>\n",
       "    <tr>\n",
       "      <th>12</th>\n",
       "      <td>29</td>\n",
       "      <td>São Paulo</td>\n",
       "      <td>SP</td>\n",
       "    </tr>\n",
       "  </tbody>\n",
       "</table>\n",
       "</div>"
      ],
      "text/plain": [
       "    Cod Cidade               cidade  UF\n",
       "0            1                Bahia  BH\n",
       "1            2     Distrito Federal  DF\n",
       "2            3       Espirito Santo  ES\n",
       "3            4                Goiás  GO\n",
       "4            5         Minas Gerais  MG\n",
       "5            6               Paraná  PA\n",
       "6            7                 Pará  PR\n",
       "7            8  Rio Grande do Norte  RJ\n",
       "8            9    Rio Grande do Sul  RN\n",
       "9           10       Rio de Janeiro  RS\n",
       "10          11       Santa Catarina  SC\n",
       "11          12              Sergipe  SE\n",
       "12          29            São Paulo  SP"
      ]
     },
     "execution_count": 19,
     "metadata": {},
     "output_type": "execute_result"
    }
   ],
   "source": [
    "df_cidade_3 = pd.DataFrame({'Cod Cidade': codcidade,\n",
    "                          'cidade': cidade,\n",
    "                          'UF': uf_2})\n",
    "df_cidade_3"
   ]
  },
  {
   "cell_type": "code",
   "execution_count": 61,
   "id": "e97cad3e-18cc-4d9f-932e-9261f00bffc3",
   "metadata": {},
   "outputs": [],
   "source": [
    "df_cidade_3.to_csv('saida_tabela_4.csv.csv')"
   ]
  },
  {
   "cell_type": "code",
   "execution_count": 24,
   "id": "a0d00054-2f68-4b4f-a18a-7eb3d6fd4be6",
   "metadata": {},
   "outputs": [],
   "source": [
    "dataframe_types(df_cidade_3, \"saida_tabela_4_csv\")"
   ]
  },
  {
   "cell_type": "markdown",
   "id": "e7ac5d6e-fa0b-4a89-b654-795eb0e5a65b",
   "metadata": {},
   "source": [
    "##### Esta próxima tabela tem uma quantidade diferente de colunas."
   ]
  },
  {
   "cell_type": "code",
   "execution_count": 25,
   "id": "6ef2c09a-4fdc-4a4a-b264-df3851b521c1",
   "metadata": {},
   "outputs": [],
   "source": [
    "cidade = ['Rio de Janeiro', 'São Paulo', 'Rio Grande do Sul', 'Espirito Santo', 'Goiás',\n",
    "          'Distrito Federal', 'Bahia', 'Rio Grande do Norte', 'Sergipe', 'Minas Gerais',\n",
    "          'Paraná', 'Santa Catarina', 'Pará']"
   ]
  },
  {
   "cell_type": "code",
   "execution_count": 26,
   "id": "77380fb4-8cc6-4c1a-837d-3c96b7419ae7",
   "metadata": {},
   "outputs": [
    {
     "data": {
      "text/html": [
       "<div>\n",
       "<style scoped>\n",
       "    .dataframe tbody tr th:only-of-type {\n",
       "        vertical-align: middle;\n",
       "    }\n",
       "\n",
       "    .dataframe tbody tr th {\n",
       "        vertical-align: top;\n",
       "    }\n",
       "\n",
       "    .dataframe thead th {\n",
       "        text-align: right;\n",
       "    }\n",
       "</style>\n",
       "<table border=\"1\" class=\"dataframe\">\n",
       "  <thead>\n",
       "    <tr style=\"text-align: right;\">\n",
       "      <th></th>\n",
       "      <th>codcidade</th>\n",
       "      <th>cidade</th>\n",
       "    </tr>\n",
       "  </thead>\n",
       "  <tbody>\n",
       "    <tr>\n",
       "      <th>0</th>\n",
       "      <td>1</td>\n",
       "      <td>Rio de Janeiro</td>\n",
       "    </tr>\n",
       "    <tr>\n",
       "      <th>1</th>\n",
       "      <td>2</td>\n",
       "      <td>São Paulo</td>\n",
       "    </tr>\n",
       "    <tr>\n",
       "      <th>2</th>\n",
       "      <td>3</td>\n",
       "      <td>Rio Grande do Sul</td>\n",
       "    </tr>\n",
       "    <tr>\n",
       "      <th>3</th>\n",
       "      <td>4</td>\n",
       "      <td>Espirito Santo</td>\n",
       "    </tr>\n",
       "    <tr>\n",
       "      <th>4</th>\n",
       "      <td>5</td>\n",
       "      <td>Goiás</td>\n",
       "    </tr>\n",
       "    <tr>\n",
       "      <th>5</th>\n",
       "      <td>6</td>\n",
       "      <td>Distrito Federal</td>\n",
       "    </tr>\n",
       "    <tr>\n",
       "      <th>6</th>\n",
       "      <td>7</td>\n",
       "      <td>Bahia</td>\n",
       "    </tr>\n",
       "    <tr>\n",
       "      <th>7</th>\n",
       "      <td>8</td>\n",
       "      <td>Rio Grande do Norte</td>\n",
       "    </tr>\n",
       "    <tr>\n",
       "      <th>8</th>\n",
       "      <td>9</td>\n",
       "      <td>Sergipe</td>\n",
       "    </tr>\n",
       "    <tr>\n",
       "      <th>9</th>\n",
       "      <td>10</td>\n",
       "      <td>Minas Gerais</td>\n",
       "    </tr>\n",
       "    <tr>\n",
       "      <th>10</th>\n",
       "      <td>11</td>\n",
       "      <td>Paraná</td>\n",
       "    </tr>\n",
       "    <tr>\n",
       "      <th>11</th>\n",
       "      <td>12</td>\n",
       "      <td>Santa Catarina</td>\n",
       "    </tr>\n",
       "    <tr>\n",
       "      <th>12</th>\n",
       "      <td>29</td>\n",
       "      <td>Pará</td>\n",
       "    </tr>\n",
       "  </tbody>\n",
       "</table>\n",
       "</div>"
      ],
      "text/plain": [
       "    codcidade               cidade\n",
       "0           1       Rio de Janeiro\n",
       "1           2            São Paulo\n",
       "2           3    Rio Grande do Sul\n",
       "3           4       Espirito Santo\n",
       "4           5                Goiás\n",
       "5           6     Distrito Federal\n",
       "6           7                Bahia\n",
       "7           8  Rio Grande do Norte\n",
       "8           9              Sergipe\n",
       "9          10         Minas Gerais\n",
       "10         11               Paraná\n",
       "11         12       Santa Catarina\n",
       "12         29                 Pará"
      ]
     },
     "execution_count": 26,
     "metadata": {},
     "output_type": "execute_result"
    }
   ],
   "source": [
    "df_cidade_4 = pd.DataFrame({'codcidade': codcidade,\n",
    "                          'cidade': cidade})\n",
    "df_cidade_4"
   ]
  },
  {
   "cell_type": "code",
   "execution_count": 5,
   "id": "852e9e9e-4d2e-4163-bebd-b7b102f59ba1",
   "metadata": {},
   "outputs": [],
   "source": [
    "df_cidade_4.to_csv(\"saida_tabela_5_csv.csv\")"
   ]
  },
  {
   "cell_type": "code",
   "execution_count": 27,
   "id": "d373070a-9204-47a0-978c-bf7590a494e0",
   "metadata": {},
   "outputs": [],
   "source": [
    "dataframe_types(df_cidade_4, \"saida_tabela_5_csv\")"
   ]
  },
  {
   "cell_type": "code",
   "execution_count": 28,
   "id": "d2077933-b031-4967-869e-0837c544eee9",
   "metadata": {},
   "outputs": [
    {
     "data": {
      "text/plain": [
       "['codcidade', 'cidade']"
      ]
     },
     "execution_count": 28,
     "metadata": {},
     "output_type": "execute_result"
    }
   ],
   "source": [
    "list(df_cidade_4.columns)"
   ]
  },
  {
   "cell_type": "markdown",
   "id": "97f51d2f-51d3-4c20-a348-1d15639c81ec",
   "metadata": {},
   "source": [
    "##### Esta próxima tabela tem as mesmas colunas, porém em ordem diferente"
   ]
  },
  {
   "cell_type": "code",
   "execution_count": 29,
   "id": "5416b57a-935e-4187-9502-8c155a342513",
   "metadata": {},
   "outputs": [
    {
     "data": {
      "text/html": [
       "<div>\n",
       "<style scoped>\n",
       "    .dataframe tbody tr th:only-of-type {\n",
       "        vertical-align: middle;\n",
       "    }\n",
       "\n",
       "    .dataframe tbody tr th {\n",
       "        vertical-align: top;\n",
       "    }\n",
       "\n",
       "    .dataframe thead th {\n",
       "        text-align: right;\n",
       "    }\n",
       "</style>\n",
       "<table border=\"1\" class=\"dataframe\">\n",
       "  <thead>\n",
       "    <tr style=\"text-align: right;\">\n",
       "      <th></th>\n",
       "      <th>codcidade</th>\n",
       "      <th>uf</th>\n",
       "      <th>cidade</th>\n",
       "    </tr>\n",
       "  </thead>\n",
       "  <tbody>\n",
       "    <tr>\n",
       "      <th>0</th>\n",
       "      <td>1</td>\n",
       "      <td>RJ</td>\n",
       "      <td>Rio de Janeiro</td>\n",
       "    </tr>\n",
       "    <tr>\n",
       "      <th>1</th>\n",
       "      <td>2</td>\n",
       "      <td>SP</td>\n",
       "      <td>São Paulo</td>\n",
       "    </tr>\n",
       "    <tr>\n",
       "      <th>2</th>\n",
       "      <td>3</td>\n",
       "      <td>RS</td>\n",
       "      <td>Rio Grande do Sul</td>\n",
       "    </tr>\n",
       "    <tr>\n",
       "      <th>3</th>\n",
       "      <td>4</td>\n",
       "      <td>ES</td>\n",
       "      <td>Espirito Santo</td>\n",
       "    </tr>\n",
       "    <tr>\n",
       "      <th>4</th>\n",
       "      <td>5</td>\n",
       "      <td>GO</td>\n",
       "      <td>Goiás</td>\n",
       "    </tr>\n",
       "    <tr>\n",
       "      <th>5</th>\n",
       "      <td>6</td>\n",
       "      <td>DF</td>\n",
       "      <td>Distrito Federal</td>\n",
       "    </tr>\n",
       "    <tr>\n",
       "      <th>6</th>\n",
       "      <td>7</td>\n",
       "      <td>BH</td>\n",
       "      <td>Bahia</td>\n",
       "    </tr>\n",
       "    <tr>\n",
       "      <th>7</th>\n",
       "      <td>8</td>\n",
       "      <td>RN</td>\n",
       "      <td>Rio Grande do Norte</td>\n",
       "    </tr>\n",
       "    <tr>\n",
       "      <th>8</th>\n",
       "      <td>9</td>\n",
       "      <td>SE</td>\n",
       "      <td>Sergipe</td>\n",
       "    </tr>\n",
       "    <tr>\n",
       "      <th>9</th>\n",
       "      <td>10</td>\n",
       "      <td>MG</td>\n",
       "      <td>Minas Gerais</td>\n",
       "    </tr>\n",
       "    <tr>\n",
       "      <th>10</th>\n",
       "      <td>11</td>\n",
       "      <td>PR</td>\n",
       "      <td>Paraná</td>\n",
       "    </tr>\n",
       "    <tr>\n",
       "      <th>11</th>\n",
       "      <td>12</td>\n",
       "      <td>SC</td>\n",
       "      <td>Santa Catarina</td>\n",
       "    </tr>\n",
       "    <tr>\n",
       "      <th>12</th>\n",
       "      <td>29</td>\n",
       "      <td>PA</td>\n",
       "      <td>Pará</td>\n",
       "    </tr>\n",
       "  </tbody>\n",
       "</table>\n",
       "</div>"
      ],
      "text/plain": [
       "    codcidade  uf               cidade\n",
       "0           1  RJ       Rio de Janeiro\n",
       "1           2  SP            São Paulo\n",
       "2           3  RS    Rio Grande do Sul\n",
       "3           4  ES       Espirito Santo\n",
       "4           5  GO                Goiás\n",
       "5           6  DF     Distrito Federal\n",
       "6           7  BH                Bahia\n",
       "7           8  RN  Rio Grande do Norte\n",
       "8           9  SE              Sergipe\n",
       "9          10  MG         Minas Gerais\n",
       "10         11  PR               Paraná\n",
       "11         12  SC       Santa Catarina\n",
       "12         29  PA                 Pará"
      ]
     },
     "execution_count": 29,
     "metadata": {},
     "output_type": "execute_result"
    }
   ],
   "source": [
    "df_cidade_5 = pd.DataFrame({'codcidade': codcidade,\n",
    "                            'uf': uf,\n",
    "                          'cidade': cidade})\n",
    "df_cidade_5"
   ]
  },
  {
   "cell_type": "code",
   "execution_count": 16,
   "id": "dd4e23ff-05c5-4b7d-a85a-65540c8cc97e",
   "metadata": {},
   "outputs": [],
   "source": [
    "df_cidade_5.to_csv(\"saida_tabela_6_csv.csv\")"
   ]
  },
  {
   "cell_type": "code",
   "execution_count": 30,
   "id": "e38aa513-527f-42d3-aabd-22ea6f417373",
   "metadata": {},
   "outputs": [],
   "source": [
    "dataframe_types(df_cidade_5, \"saida_tabela_6_csv\")"
   ]
  },
  {
   "cell_type": "code",
   "execution_count": 31,
   "id": "0d839ea8-b9af-4c19-a53f-8bec47c7ad49",
   "metadata": {},
   "outputs": [
    {
     "data": {
      "text/plain": [
       "[1, 'RJ', 'Rio de Janeiro']"
      ]
     },
     "execution_count": 31,
     "metadata": {},
     "output_type": "execute_result"
    }
   ],
   "source": [
    "list(df_cidade_5.iloc[0])"
   ]
  },
  {
   "cell_type": "code",
   "execution_count": 32,
   "id": "a0f32d21-2a1f-49d5-8715-d44d17ebccb5",
   "metadata": {},
   "outputs": [],
   "source": [
    "conjunto_linhas_arquivo_original = set()\n",
    "conjunto_linhas_arquivo_convertido = set()\n",
    "\n",
    "for index, row in df_cidade_5.iterrows():\n",
    "    conjunto_linhas_arquivo_original.add(tuple(df_cidade_2.iloc[index]))\n",
    "    \n",
    "for index, row in df_cidade_3.iterrows():\n",
    "    conjunto_linhas_arquivo_convertido.add(tuple(df_cidade.iloc[index]))"
   ]
  },
  {
   "cell_type": "code",
   "execution_count": 33,
   "id": "cf248eef-1a01-4bee-8cb4-feee63a8c776",
   "metadata": {},
   "outputs": [
    {
     "data": {
      "text/plain": [
       "set()"
      ]
     },
     "execution_count": 33,
     "metadata": {},
     "output_type": "execute_result"
    }
   ],
   "source": [
    "conjunto_linhas_arquivo_original.difference(conjunto_linhas_arquivo_convertido)"
   ]
  },
  {
   "cell_type": "code",
   "execution_count": 34,
   "id": "aa56937d-1a85-4491-92b7-c256f014eaf7",
   "metadata": {},
   "outputs": [],
   "source": [
    "##### A próxima tabela é igual a Segunda tabela, porém com algumas linhas a menos"
   ]
  },
  {
   "cell_type": "code",
   "execution_count": 35,
   "id": "38fe2e40-1bac-42ca-8018-945c956b4f1c",
   "metadata": {},
   "outputs": [],
   "source": [
    "df_cidade_6 = df_cidade_2.drop([6,9])"
   ]
  },
  {
   "cell_type": "code",
   "execution_count": 36,
   "id": "447a3505-27df-4ee0-9b75-e9d460fb09d3",
   "metadata": {},
   "outputs": [
    {
     "data": {
      "text/html": [
       "<div>\n",
       "<style scoped>\n",
       "    .dataframe tbody tr th:only-of-type {\n",
       "        vertical-align: middle;\n",
       "    }\n",
       "\n",
       "    .dataframe tbody tr th {\n",
       "        vertical-align: top;\n",
       "    }\n",
       "\n",
       "    .dataframe thead th {\n",
       "        text-align: right;\n",
       "    }\n",
       "</style>\n",
       "<table border=\"1\" class=\"dataframe\">\n",
       "  <thead>\n",
       "    <tr style=\"text-align: right;\">\n",
       "      <th></th>\n",
       "      <th>Cod Cidade</th>\n",
       "      <th>cidade</th>\n",
       "      <th>UF</th>\n",
       "    </tr>\n",
       "  </thead>\n",
       "  <tbody>\n",
       "    <tr>\n",
       "      <th>0</th>\n",
       "      <td>1</td>\n",
       "      <td>Rio de Janeiro</td>\n",
       "      <td>RJ</td>\n",
       "    </tr>\n",
       "    <tr>\n",
       "      <th>1</th>\n",
       "      <td>2</td>\n",
       "      <td>São Paulo</td>\n",
       "      <td>SP</td>\n",
       "    </tr>\n",
       "    <tr>\n",
       "      <th>2</th>\n",
       "      <td>3</td>\n",
       "      <td>Rio Grande do Sul</td>\n",
       "      <td>RS</td>\n",
       "    </tr>\n",
       "    <tr>\n",
       "      <th>3</th>\n",
       "      <td>4</td>\n",
       "      <td>Espirito Santo</td>\n",
       "      <td>ES</td>\n",
       "    </tr>\n",
       "    <tr>\n",
       "      <th>4</th>\n",
       "      <td>5</td>\n",
       "      <td>Goiás</td>\n",
       "      <td>GO</td>\n",
       "    </tr>\n",
       "    <tr>\n",
       "      <th>5</th>\n",
       "      <td>6</td>\n",
       "      <td>Distrito Federal</td>\n",
       "      <td>DF</td>\n",
       "    </tr>\n",
       "    <tr>\n",
       "      <th>7</th>\n",
       "      <td>8</td>\n",
       "      <td>Rio Grande do Norte</td>\n",
       "      <td>RN</td>\n",
       "    </tr>\n",
       "    <tr>\n",
       "      <th>8</th>\n",
       "      <td>9</td>\n",
       "      <td>Sergipe</td>\n",
       "      <td>SE</td>\n",
       "    </tr>\n",
       "    <tr>\n",
       "      <th>10</th>\n",
       "      <td>11</td>\n",
       "      <td>Paraná</td>\n",
       "      <td>PR</td>\n",
       "    </tr>\n",
       "    <tr>\n",
       "      <th>11</th>\n",
       "      <td>12</td>\n",
       "      <td>Santa Catarina</td>\n",
       "      <td>SC</td>\n",
       "    </tr>\n",
       "    <tr>\n",
       "      <th>12</th>\n",
       "      <td>29</td>\n",
       "      <td>Pará</td>\n",
       "      <td>PA</td>\n",
       "    </tr>\n",
       "  </tbody>\n",
       "</table>\n",
       "</div>"
      ],
      "text/plain": [
       "    Cod Cidade               cidade  UF\n",
       "0            1       Rio de Janeiro  RJ\n",
       "1            2            São Paulo  SP\n",
       "2            3    Rio Grande do Sul  RS\n",
       "3            4       Espirito Santo  ES\n",
       "4            5                Goiás  GO\n",
       "5            6     Distrito Federal  DF\n",
       "7            8  Rio Grande do Norte  RN\n",
       "8            9              Sergipe  SE\n",
       "10          11               Paraná  PR\n",
       "11          12       Santa Catarina  SC\n",
       "12          29                 Pará  PA"
      ]
     },
     "execution_count": 36,
     "metadata": {},
     "output_type": "execute_result"
    }
   ],
   "source": [
    "df_cidade_6"
   ]
  },
  {
   "cell_type": "code",
   "execution_count": 74,
   "id": "8c96017a-8d2f-4da7-bb61-482d9fd0d5fe",
   "metadata": {},
   "outputs": [],
   "source": [
    "df_cidade_6.to_csv('saida_tabela_7.csv')"
   ]
  },
  {
   "cell_type": "code",
   "execution_count": 37,
   "id": "8b570749-3de4-4f29-a888-86e0f5d42007",
   "metadata": {},
   "outputs": [],
   "source": [
    "dataframe_types(df_cidade_6, \"saida_tabela_7_csv\")"
   ]
  },
  {
   "cell_type": "code",
   "execution_count": null,
   "id": "1af6ccb8-185f-4abf-8cd2-d98a22f4aa4b",
   "metadata": {},
   "outputs": [],
   "source": []
  }
 ],
 "metadata": {
  "kernelspec": {
   "display_name": "Python 3 (ipykernel)",
   "language": "python",
   "name": "python3"
  },
  "language_info": {
   "codemirror_mode": {
    "name": "ipython",
    "version": 3
   },
   "file_extension": ".py",
   "mimetype": "text/x-python",
   "name": "python",
   "nbconvert_exporter": "python",
   "pygments_lexer": "ipython3",
   "version": "3.9.12"
  }
 },
 "nbformat": 4,
 "nbformat_minor": 5
}
