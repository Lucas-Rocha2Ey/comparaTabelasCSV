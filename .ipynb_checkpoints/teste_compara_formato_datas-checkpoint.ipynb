{
 "cells": [
  {
   "cell_type": "code",
   "execution_count": 76,
   "id": "f337d990-635f-415f-8bf6-d82742e29a38",
   "metadata": {},
   "outputs": [],
   "source": [
    "import pandas as pd\n",
    "from datetime import datetime"
   ]
  },
  {
   "cell_type": "code",
   "execution_count": 77,
   "id": "6b83a434-8b2e-47ae-8cbf-ffb7a11cd1f6",
   "metadata": {},
   "outputs": [],
   "source": [
    "df_dateformat = pd.read_excel('Formato Datas.xlsx')"
   ]
  },
  {
   "cell_type": "code",
   "execution_count": 78,
   "id": "6c6f544c-9892-4522-8a9c-d37d4513e7f7",
   "metadata": {},
   "outputs": [
    {
     "data": {
      "text/html": [
       "<div>\n",
       "<style scoped>\n",
       "    .dataframe tbody tr th:only-of-type {\n",
       "        vertical-align: middle;\n",
       "    }\n",
       "\n",
       "    .dataframe tbody tr th {\n",
       "        vertical-align: top;\n",
       "    }\n",
       "\n",
       "    .dataframe thead th {\n",
       "        text-align: right;\n",
       "    }\n",
       "</style>\n",
       "<table border=\"1\" class=\"dataframe\">\n",
       "  <thead>\n",
       "    <tr style=\"text-align: right;\">\n",
       "      <th></th>\n",
       "      <th>FORMAT DATE SAS</th>\n",
       "      <th>FORMAT DATETIME STRING DATETIME</th>\n",
       "      <th>Result</th>\n",
       "    </tr>\n",
       "  </thead>\n",
       "  <tbody>\n",
       "    <tr>\n",
       "      <th>0</th>\n",
       "      <td>DATEw.</td>\n",
       "      <td>%d%b%y</td>\n",
       "      <td>\"17MAR00\"</td>\n",
       "    </tr>\n",
       "    <tr>\n",
       "      <th>1</th>\n",
       "      <td>DATE9.</td>\n",
       "      <td>%d%b%Ya</td>\n",
       "      <td>\"17MAR2000a\"</td>\n",
       "    </tr>\n",
       "    <tr>\n",
       "      <th>2</th>\n",
       "      <td>DAYw.</td>\n",
       "      <td>%d</td>\n",
       "      <td>\"17\"</td>\n",
       "    </tr>\n",
       "    <tr>\n",
       "      <th>3</th>\n",
       "      <td>DDMMYYw.</td>\n",
       "      <td>%d/%m/%Y</td>\n",
       "      <td>\"17/03/2000\"</td>\n",
       "    </tr>\n",
       "    <tr>\n",
       "      <th>4</th>\n",
       "      <td>DDMMYY10.</td>\n",
       "      <td>%d/%m/%Y</td>\n",
       "      <td>\"17/03/2000\"</td>\n",
       "    </tr>\n",
       "    <tr>\n",
       "      <th>...</th>\n",
       "      <td>...</td>\n",
       "      <td>...</td>\n",
       "      <td>...</td>\n",
       "    </tr>\n",
       "    <tr>\n",
       "      <th>56</th>\n",
       "      <td>YYMMPw.</td>\n",
       "      <td>%Y.%m</td>\n",
       "      <td>\"2000.03\"</td>\n",
       "    </tr>\n",
       "    <tr>\n",
       "      <th>57</th>\n",
       "      <td>YYMMS.</td>\n",
       "      <td>%Y/%m</td>\n",
       "      <td>\"2000/03\"</td>\n",
       "    </tr>\n",
       "    <tr>\n",
       "      <th>58</th>\n",
       "      <td>YYMMN.</td>\n",
       "      <td>%Y%m</td>\n",
       "      <td>\"200003\"</td>\n",
       "    </tr>\n",
       "    <tr>\n",
       "      <th>59</th>\n",
       "      <td>YYMMDDw.</td>\n",
       "      <td>%y-%m-%d</td>\n",
       "      <td>\"00-03-17\"</td>\n",
       "    </tr>\n",
       "    <tr>\n",
       "      <th>60</th>\n",
       "      <td>YYMON.</td>\n",
       "      <td>%Y%b</td>\n",
       "      <td>\"2000MAR\"</td>\n",
       "    </tr>\n",
       "  </tbody>\n",
       "</table>\n",
       "<p>61 rows × 3 columns</p>\n",
       "</div>"
      ],
      "text/plain": [
       "   FORMAT DATE SAS FORMAT DATETIME STRING DATETIME        Result\n",
       "0           DATEw.                          %d%b%y     \"17MAR00\"\n",
       "1           DATE9.                         %d%b%Ya  \"17MAR2000a\"\n",
       "2            DAYw.                              %d          \"17\"\n",
       "3         DDMMYYw.                        %d/%m/%Y  \"17/03/2000\"\n",
       "4        DDMMYY10.                        %d/%m/%Y  \"17/03/2000\"\n",
       "..             ...                             ...           ...\n",
       "56         YYMMPw.                           %Y.%m     \"2000.03\"\n",
       "57          YYMMS.                           %Y/%m     \"2000/03\"\n",
       "58          YYMMN.                            %Y%m      \"200003\"\n",
       "59        YYMMDDw.                        %y-%m-%d    \"00-03-17\"\n",
       "60          YYMON.                            %Y%b     \"2000MAR\"\n",
       "\n",
       "[61 rows x 3 columns]"
      ]
     },
     "execution_count": 78,
     "metadata": {},
     "output_type": "execute_result"
    }
   ],
   "source": [
    "df_dateformat.head(61)"
   ]
  },
  {
   "cell_type": "code",
   "execution_count": 79,
   "id": "c6e2963b-b34c-46b7-a239-3389e83f7597",
   "metadata": {},
   "outputs": [],
   "source": [
    "# data para testar o resultado\n",
    "dt_17032000 = datetime(2000,3,17,4,4,46)"
   ]
  },
  {
   "cell_type": "code",
   "execution_count": 80,
   "id": "6da5f34f-e180-4001-8461-91b1e1b40c5d",
   "metadata": {},
   "outputs": [],
   "source": [
    "results = []\n",
    "\n",
    "for cada_formato_datestring in df_dateformat[\"FORMAT DATETIME STRING DATETIME\"].values:\n",
    "    try:\n",
    "        dt_string = dt_17032000.strftime(cada_formato_datestring)\n",
    "        results.append(f\"'{dt_string}'\")\n",
    "    except ValueError:\n",
    "        print(f\"Formato inválido - {cada_formato_datestring}\")"
   ]
  },
  {
   "cell_type": "code",
   "execution_count": 81,
   "id": "58001f8a-b185-4478-bef9-bf74127c1d81",
   "metadata": {},
   "outputs": [],
   "source": [
    "df_dateformat['Computed results'] = results"
   ]
  },
  {
   "cell_type": "code",
   "execution_count": 82,
   "id": "6bb09f47-9807-45be-9b73-11a14c7e8ab9",
   "metadata": {
    "tags": []
   },
   "outputs": [
    {
     "data": {
      "text/html": [
       "<div>\n",
       "<style scoped>\n",
       "    .dataframe tbody tr th:only-of-type {\n",
       "        vertical-align: middle;\n",
       "    }\n",
       "\n",
       "    .dataframe tbody tr th {\n",
       "        vertical-align: top;\n",
       "    }\n",
       "\n",
       "    .dataframe thead th {\n",
       "        text-align: right;\n",
       "    }\n",
       "</style>\n",
       "<table border=\"1\" class=\"dataframe\">\n",
       "  <thead>\n",
       "    <tr style=\"text-align: right;\">\n",
       "      <th></th>\n",
       "      <th>FORMAT DATE SAS</th>\n",
       "      <th>FORMAT DATETIME STRING DATETIME</th>\n",
       "      <th>Result</th>\n",
       "      <th>Computed results</th>\n",
       "    </tr>\n",
       "  </thead>\n",
       "  <tbody>\n",
       "    <tr>\n",
       "      <th>0</th>\n",
       "      <td>DATEw.</td>\n",
       "      <td>%d%b%y</td>\n",
       "      <td>\"17MAR00\"</td>\n",
       "      <td>'17Mar00'</td>\n",
       "    </tr>\n",
       "    <tr>\n",
       "      <th>1</th>\n",
       "      <td>DATE9.</td>\n",
       "      <td>%d%b%Ya</td>\n",
       "      <td>\"17MAR2000a\"</td>\n",
       "      <td>'17Mar2000a'</td>\n",
       "    </tr>\n",
       "    <tr>\n",
       "      <th>2</th>\n",
       "      <td>DAYw.</td>\n",
       "      <td>%d</td>\n",
       "      <td>\"17\"</td>\n",
       "      <td>'17'</td>\n",
       "    </tr>\n",
       "    <tr>\n",
       "      <th>3</th>\n",
       "      <td>DDMMYYw.</td>\n",
       "      <td>%d/%m/%Y</td>\n",
       "      <td>\"17/03/2000\"</td>\n",
       "      <td>'17/03/2000'</td>\n",
       "    </tr>\n",
       "    <tr>\n",
       "      <th>4</th>\n",
       "      <td>DDMMYY10.</td>\n",
       "      <td>%d/%m/%Y</td>\n",
       "      <td>\"17/03/2000\"</td>\n",
       "      <td>'17/03/2000'</td>\n",
       "    </tr>\n",
       "    <tr>\n",
       "      <th>...</th>\n",
       "      <td>...</td>\n",
       "      <td>...</td>\n",
       "      <td>...</td>\n",
       "      <td>...</td>\n",
       "    </tr>\n",
       "    <tr>\n",
       "      <th>56</th>\n",
       "      <td>YYMMPw.</td>\n",
       "      <td>%Y.%m</td>\n",
       "      <td>\"2000.03\"</td>\n",
       "      <td>'2000.03'</td>\n",
       "    </tr>\n",
       "    <tr>\n",
       "      <th>57</th>\n",
       "      <td>YYMMS.</td>\n",
       "      <td>%Y/%m</td>\n",
       "      <td>\"2000/03\"</td>\n",
       "      <td>'2000/03'</td>\n",
       "    </tr>\n",
       "    <tr>\n",
       "      <th>58</th>\n",
       "      <td>YYMMN.</td>\n",
       "      <td>%Y%m</td>\n",
       "      <td>\"200003\"</td>\n",
       "      <td>'200003'</td>\n",
       "    </tr>\n",
       "    <tr>\n",
       "      <th>59</th>\n",
       "      <td>YYMMDDw.</td>\n",
       "      <td>%y-%m-%d</td>\n",
       "      <td>\"00-03-17\"</td>\n",
       "      <td>'00-03-17'</td>\n",
       "    </tr>\n",
       "    <tr>\n",
       "      <th>60</th>\n",
       "      <td>YYMON.</td>\n",
       "      <td>%Y%b</td>\n",
       "      <td>\"2000MAR\"</td>\n",
       "      <td>'2000Mar'</td>\n",
       "    </tr>\n",
       "  </tbody>\n",
       "</table>\n",
       "<p>61 rows × 4 columns</p>\n",
       "</div>"
      ],
      "text/plain": [
       "   FORMAT DATE SAS FORMAT DATETIME STRING DATETIME        Result  \\\n",
       "0           DATEw.                          %d%b%y     \"17MAR00\"   \n",
       "1           DATE9.                         %d%b%Ya  \"17MAR2000a\"   \n",
       "2            DAYw.                              %d          \"17\"   \n",
       "3         DDMMYYw.                        %d/%m/%Y  \"17/03/2000\"   \n",
       "4        DDMMYY10.                        %d/%m/%Y  \"17/03/2000\"   \n",
       "..             ...                             ...           ...   \n",
       "56         YYMMPw.                           %Y.%m     \"2000.03\"   \n",
       "57          YYMMS.                           %Y/%m     \"2000/03\"   \n",
       "58          YYMMN.                            %Y%m      \"200003\"   \n",
       "59        YYMMDDw.                        %y-%m-%d    \"00-03-17\"   \n",
       "60          YYMON.                            %Y%b     \"2000MAR\"   \n",
       "\n",
       "   Computed results  \n",
       "0         '17Mar00'  \n",
       "1      '17Mar2000a'  \n",
       "2              '17'  \n",
       "3      '17/03/2000'  \n",
       "4      '17/03/2000'  \n",
       "..              ...  \n",
       "56        '2000.03'  \n",
       "57        '2000/03'  \n",
       "58         '200003'  \n",
       "59       '00-03-17'  \n",
       "60        '2000Mar'  \n",
       "\n",
       "[61 rows x 4 columns]"
      ]
     },
     "execution_count": 82,
     "metadata": {},
     "output_type": "execute_result"
    }
   ],
   "source": [
    "df_dateformat"
   ]
  },
  {
   "cell_type": "markdown",
   "id": "415501de-8176-4ef4-aae6-dcf8e3187edd",
   "metadata": {},
   "source": [
    "#### CASO 1 - Formato de data do Sas tem que ser exatamente a mesma do Databricks\n",
    "##### Se no SAS está DDMMYYYY, no relatório do databricks tem que estar DDMMYYYY"
   ]
  },
  {
   "cell_type": "code",
   "execution_count": 121,
   "id": "af83d651-ecd8-42d7-801a-0f1badd9da58",
   "metadata": {},
   "outputs": [],
   "source": [
    "texto_sas = \"27MAR2014\"\n",
    "formato_sas = \"DDMMYYN10\"\n",
    "texto_databricks = \"2014-03-27\""
   ]
  },
  {
   "cell_type": "code",
   "execution_count": 122,
   "id": "62bec200-b57b-4e87-a159-1edb020b6db1",
   "metadata": {},
   "outputs": [
    {
     "data": {
      "text/plain": [
       "'%d%b%Y'"
      ]
     },
     "execution_count": 122,
     "metadata": {},
     "output_type": "execute_result"
    }
   ],
   "source": [
    "# Achar o formato de data em SAS equivalente em Datetime String\n",
    "formato_equiv_databricks = df_dateformat.loc[df_dateformat[\"FORMAT DATE SAS\"] == formato_sas, \"FORMAT DATETIME STRING DATETIME\"].values[0]\n",
    "formato_equiv_databricks"
   ]
  },
  {
   "cell_type": "code",
   "execution_count": 123,
   "id": "57f5afef-2704-4204-ad48-30678eb2d9b5",
   "metadata": {},
   "outputs": [
    {
     "data": {
      "text/plain": [
       "datetime.datetime(2014, 3, 27, 0, 0)"
      ]
     },
     "execution_count": 123,
     "metadata": {},
     "output_type": "execute_result"
    }
   ],
   "source": [
    "# Desse formato, devo criar um objeto Datetime a partir da informação desse valor do relatório em SAS\n",
    "dt = datetime.strptime(texto_sas, formato_equiv_databricks)\n",
    "dt"
   ]
  },
  {
   "cell_type": "code",
   "execution_count": 124,
   "id": "5c34f2cc-ae7c-48f3-b090-0c16d76242b5",
   "metadata": {},
   "outputs": [
    {
     "name": "stdout",
     "output_type": "stream",
     "text": [
      "Formato da data no relatório do Databricks não é o mesmo formato de data do relatório do SAS\n",
      "Teste Reprovado\n"
     ]
    }
   ],
   "source": [
    "try:\n",
    "    dt_2 = datetime.strptime(texto_databricks, formato_equiv_databricks)\n",
    "    if dt == dt_2:\n",
    "        print(\"As datas estão exatamente no mesmo formato\")\n",
    "        print(\"Teste aprovado\")\n",
    "except ValueError:\n",
    "    print(\"Formato da data no relatório do Databricks não é o mesmo formato de data do relatório do SAS\")\n",
    "    print(\"Teste Reprovado\")"
   ]
  },
  {
   "cell_type": "markdown",
   "id": "30eefe8a-0661-4102-bde1-304fc6acfe16",
   "metadata": {},
   "source": [
    "#### CASO 2 - As datas devem estar no formato padrão do Databricks (YYYY-MM-DD)"
   ]
  },
  {
   "cell_type": "code",
   "execution_count": null,
   "id": "c409d245-20be-4a6d-8d80-940161888ace",
   "metadata": {},
   "outputs": [],
   "source": [
    "try:\n",
    "    dt_2 = datetime.strptime(texto_databricks, \"%Y-%m-%d\")\n",
    "    if dt == dt_2:\n",
    "        print(\"As datas estão iguais, apesar do formato diferente\")\n",
    "        print(\"Teste aprovado\")\n",
    "except ValueError:\n",
    "    print(\"As datas não são iguais\")\n",
    "    print(\"Teste Reprovado\")"
   ]
  }
 ],
 "metadata": {
  "kernelspec": {
   "display_name": "Python 3 (ipykernel)",
   "language": "python",
   "name": "python3"
  },
  "language_info": {
   "codemirror_mode": {
    "name": "ipython",
    "version": 3
   },
   "file_extension": ".py",
   "mimetype": "text/x-python",
   "name": "python",
   "nbconvert_exporter": "python",
   "pygments_lexer": "ipython3",
   "version": "3.9.12"
  }
 },
 "nbformat": 4,
 "nbformat_minor": 5
}
